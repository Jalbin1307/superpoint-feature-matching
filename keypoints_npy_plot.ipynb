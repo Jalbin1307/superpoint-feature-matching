{
 "cells": [
  {
   "cell_type": "code",
   "execution_count": 1,
   "id": "bd7630c2",
   "metadata": {},
   "outputs": [],
   "source": [
    "import numpy as np\n",
    "import cv2"
   ]
  },
  {
   "cell_type": "code",
   "execution_count": 32,
   "id": "9f816d41",
   "metadata": {},
   "outputs": [],
   "source": [
    "npy_path = 'data/labels/COCO_train2014_000000000025.jpg.npy'\n",
    "img_path = 'data/images/COCO_train2014_000000000025.jpg'"
   ]
  },
  {
   "cell_type": "code",
   "execution_count": 40,
   "id": "535d9762",
   "metadata": {},
   "outputs": [],
   "source": [
    "img = cv2.imread(img_path)\n",
    "data = np.load(npy_path)"
   ]
  },
  {
   "cell_type": "code",
   "execution_count": 41,
   "id": "50d9bf96",
   "metadata": {},
   "outputs": [
    {
     "name": "stdout",
     "output_type": "stream",
     "text": [
      "Image shape :  (240, 320, 3)\n",
      "label shape :  (232, 2)\n"
     ]
    }
   ],
   "source": [
    "print(\"Image shape : \", img.shape)\n",
    "print(\"label shape : \", data.shape)"
   ]
  },
  {
   "cell_type": "code",
   "execution_count": 42,
   "id": "49d8d355",
   "metadata": {},
   "outputs": [],
   "source": [
    "for corner in data:\n",
    "    x, y = corner\n",
    "    cv2.circle(img, (y, x), 3, (0,0,255), 1, cv2.LINE_AA)"
   ]
  },
  {
   "cell_type": "code",
   "execution_count": 43,
   "id": "904e97bc",
   "metadata": {},
   "outputs": [],
   "source": [
    "cv2.imshow('Test',img)\n",
    "cv2.waitKey()\n",
    "cv2.destroyAllWindows()"
   ]
  }
 ],
 "metadata": {
  "kernelspec": {
   "display_name": "Python 3 (ipykernel)",
   "language": "python",
   "name": "python3"
  },
  "language_info": {
   "codemirror_mode": {
    "name": "ipython",
    "version": 3
   },
   "file_extension": ".py",
   "mimetype": "text/x-python",
   "name": "python",
   "nbconvert_exporter": "python",
   "pygments_lexer": "ipython3",
   "version": "3.8.13"
  }
 },
 "nbformat": 4,
 "nbformat_minor": 5
}
